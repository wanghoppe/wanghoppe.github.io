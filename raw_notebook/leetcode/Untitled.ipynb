{
 "cells": [
  {
   "cell_type": "markdown",
   "metadata": {},
   "source": [
    "## two sum"
   ]
  },
  {
   "cell_type": "code",
   "execution_count": 21,
   "metadata": {},
   "outputs": [],
   "source": [
    "nums = [3, 2,4]\n",
    "target = 6"
   ]
  },
  {
   "cell_type": "code",
   "execution_count": 31,
   "metadata": {},
   "outputs": [],
   "source": [
    "def twoSum(nums, target):\n",
    "    d = dict([(v, k) for k, v in enumerate(nums)])\n",
    "    for k,it in enumerate(nums):\n",
    "        if (target - it) in d and k != d[target-it]:\n",
    "            return [d[it], d[target-it]]"
   ]
  },
  {
   "cell_type": "code",
   "execution_count": 27,
   "metadata": {},
   "outputs": [
    {
     "data": {
      "text/plain": [
       "[3, 3]"
      ]
     },
     "execution_count": 27,
     "metadata": {},
     "output_type": "execute_result"
    }
   ],
   "source": [
    "twoSum(nums, target)"
   ]
  },
  {
   "cell_type": "code",
   "execution_count": 1,
   "metadata": {},
   "outputs": [],
   "source": [
    "ｘ = -123"
   ]
  },
  {
   "cell_type": "code",
   "execution_count": 5,
   "metadata": {},
   "outputs": [],
   "source": [
    "l = list(str(x))"
   ]
  },
  {
   "cell_type": "code",
   "execution_count": 17,
   "metadata": {},
   "outputs": [],
   "source": [
    "s = '-123'"
   ]
  },
  {
   "cell_type": "code",
   "execution_count": 19,
   "metadata": {},
   "outputs": [
    {
     "name": "stdout",
     "output_type": "stream",
     "text": [
      "-321\n"
     ]
    }
   ],
   "source": [
    "if s.startswith('-'):\n",
    "    lst = list(s[1:])\n",
    "    lst.reverse()\n",
    "    return(int('-'+''.join(lst)))\n",
    "else:\n",
    "    lst = list(s)\n",
    "    lst.reverse()\n",
    "    return(''.join(lst))"
   ]
  },
  {
   "cell_type": "code",
   "execution_count": 20,
   "metadata": {},
   "outputs": [
    {
     "data": {
      "text/plain": [
       "-123"
      ]
     },
     "execution_count": 20,
     "metadata": {},
     "output_type": "execute_result"
    }
   ],
   "source": [
    "x"
   ]
  },
  {
   "cell_type": "code",
   "execution_count": 31,
   "metadata": {},
   "outputs": [
    {
     "data": {
      "text/plain": [
       "True"
      ]
     },
     "execution_count": 31,
     "metadata": {},
     "output_type": "execute_result"
    }
   ],
   "source": [
    "1534236469 < 2**31"
   ]
  },
  {
   "cell_type": "code",
   "execution_count": 33,
   "metadata": {},
   "outputs": [
    {
     "data": {
      "text/plain": [
       "2147483647"
      ]
     },
     "execution_count": 33,
     "metadata": {},
     "output_type": "execute_result"
    }
   ],
   "source": [
    "2**31 -1"
   ]
  },
  {
   "cell_type": "markdown",
   "metadata": {},
   "source": [
    "## Inorder Traverse BST"
   ]
  },
  {
   "cell_type": "code",
   "execution_count": 111,
   "metadata": {},
   "outputs": [],
   "source": [
    "class TreeNode:\n",
    "    def __init__(self, x):\n",
    "        self.val = x\n",
    "        self.left = None\n",
    "        self.right = None\n",
    "    def __repr__(self):\n",
    "        return str(self.val)\n",
    "\n"
   ]
  },
  {
   "cell_type": "code",
   "execution_count": 218,
   "metadata": {},
   "outputs": [],
   "source": [
    "root = TreeNode(1)\n",
    "root.left = TreeNode(2)\n",
    "root.right = TreeNode(3)\n",
    "root.left.left = TreeNode(4)\n",
    "\n",
    "def inorderTraversal(root: TreeNode):\n",
    "    stk = []\n",
    "    out = []\n",
    "    node = root\n",
    "    while stk or node:\n",
    "        while node:\n",
    "            stk.append(node)\n",
    "            node = node.left\n",
    "\n",
    "        temp = stk.pop()\n",
    "        out.append(temp.val)\n",
    "        node = temp.right\n",
    "\n",
    "    return out"
   ]
  },
  {
   "cell_type": "code",
   "execution_count": 219,
   "metadata": {},
   "outputs": [],
   "source": [
    "def preorderTraversal(root: TreeNode):\n",
    "    stk = []\n",
    "    out = []\n",
    "    node = root\n",
    "    while stk or node:\n",
    "        while node:\n",
    "            stk.append(node)\n",
    "            out.append(node.val)\n",
    "            node = node.left\n",
    "\n",
    "        temp = stk.pop()\n",
    "        node = temp.right\n",
    "\n",
    "    return out"
   ]
  },
  {
   "cell_type": "markdown",
   "metadata": {},
   "source": [
    "InOrder\n",
    "```python\n",
    "class Solution:\n",
    "    def inorderTraversal(self, root: TreeNode) -> List[int]:\n",
    "        inorder, stack = [], [(root, False)]\n",
    "        while stack:\n",
    "            (node, visited) = stack.pop()\n",
    "            if node:\n",
    "                if visited:\n",
    "                    inorder.append(node.val)\n",
    "                else:\n",
    "                    stack.append((node.right, False))\n",
    "                    stack.append((node, True))\n",
    "                    stack.append((node.left, False))\n",
    "        return inorder\n",
    "    \n",
    "class Solution:\n",
    "    def preorderTraversal(self, root: TreeNode) -> List[int]:\n",
    "        preorder, stack = [], [(root, False)]\n",
    "        while stack:\n",
    "            (node, visited) = stack.pop()\n",
    "            if not node:\n",
    "                continue\n",
    "            if visited:\n",
    "                preorder.append(node.val)\n",
    "            else:\n",
    "                stack.append((node.right, False))\n",
    "                stack.append((node.left, False))\n",
    "                stack.append((node, True))\n",
    "        return preorder\n",
    "\n",
    "class Solution:\n",
    "    def postorderTraversal(self, root: TreeNode) -> List[int]:\n",
    "        postorder, stack = [], [(root, False)]\n",
    "        while stack:\n",
    "            (node, visited) = stack.pop()\n",
    "            if node:\n",
    "                if visited:\n",
    "                    postorder.append(node.val)\n",
    "                else:\n",
    "                    stack.append((node, True))\n",
    "                    stack.append((node.right, False))\n",
    "                    stack.append((node.left, False))\n",
    "        return postorder\n",
    "```"
   ]
  },
  {
   "cell_type": "code",
   "execution_count": 220,
   "metadata": {},
   "outputs": [],
   "source": [
    "def postorderTraversal(root: TreeNode):\n",
    "    stk = []\n",
    "    out = []\n",
    "    curr = root\n",
    "    while stk or curr:\n",
    "        print(curr)\n",
    "        print(stk)\n",
    "        while curr:\n",
    "            stk.append(curr)\n",
    "            curr = curr.left\n",
    "            \n",
    "        \n",
    "        temp = stk[-1]\n",
    "            \n",
    "        if temp.right:\n",
    "            curr = temp.right\n",
    "        else:\n",
    "            out.append(temp.val)\n",
    "            stk.pop()\n",
    "            if stk:\n",
    "                curr = stk[-1].right\n",
    "                stk[-1].right = None\n",
    "    return out"
   ]
  },
  {
   "cell_type": "code",
   "execution_count": 221,
   "metadata": {},
   "outputs": [
    {
     "name": "stdout",
     "output_type": "stream",
     "text": [
      "1\n",
      "[]\n",
      "None\n",
      "[1, 2]\n",
      "3\n",
      "[1]\n",
      "None\n",
      "[1]\n"
     ]
    },
    {
     "data": {
      "text/plain": [
       "[4, 2, 3, 1]"
      ]
     },
     "execution_count": 221,
     "metadata": {},
     "output_type": "execute_result"
    }
   ],
   "source": [
    "postorderTraversal(root)"
   ]
  },
  {
   "cell_type": "code",
   "execution_count": 188,
   "metadata": {},
   "outputs": [
    {
     "data": {
      "text/plain": [
       "[1, 2, 4, 3]"
      ]
     },
     "execution_count": 188,
     "metadata": {},
     "output_type": "execute_result"
    }
   ],
   "source": [
    "preorderTraversal(root)"
   ]
  },
  {
   "cell_type": "code",
   "execution_count": 190,
   "metadata": {},
   "outputs": [
    {
     "data": {
      "text/plain": [
       "[4, 2, 1, 3]"
      ]
     },
     "execution_count": 190,
     "metadata": {},
     "output_type": "execute_result"
    }
   ],
   "source": [
    "inorderTraversal(root)"
   ]
  },
  {
   "cell_type": "code",
   "execution_count": 117,
   "metadata": {},
   "outputs": [
    {
     "data": {
      "text/plain": [
       "1"
      ]
     },
     "execution_count": 117,
     "metadata": {},
     "output_type": "execute_result"
    }
   ],
   "source": [
    "TreeNode(1)"
   ]
  },
  {
   "cell_type": "code",
   "execution_count": 212,
   "metadata": {},
   "outputs": [],
   "source": [
    "stk = [root]"
   ]
  },
  {
   "cell_type": "code",
   "execution_count": 222,
   "metadata": {},
   "outputs": [
    {
     "data": {
      "text/plain": [
       "1"
      ]
     },
     "execution_count": 222,
     "metadata": {},
     "output_type": "execute_result"
    }
   ],
   "source": [
    "root"
   ]
  },
  {
   "cell_type": "code",
   "execution_count": 227,
   "metadata": {},
   "outputs": [
    {
     "data": {
      "text/plain": [
       "100"
      ]
     },
     "execution_count": 227,
     "metadata": {},
     "output_type": "execute_result"
    }
   ],
   "source": [
    "root.left"
   ]
  },
  {
   "cell_type": "code",
   "execution_count": 216,
   "metadata": {},
   "outputs": [],
   "source": [
    "stk[-1].left = None"
   ]
  },
  {
   "cell_type": "code",
   "execution_count": 225,
   "metadata": {},
   "outputs": [],
   "source": [
    "x = [root][0]"
   ]
  },
  {
   "cell_type": "code",
   "execution_count": 226,
   "metadata": {},
   "outputs": [],
   "source": [
    "x.left = 100"
   ]
  },
  {
   "cell_type": "code",
   "execution_count": null,
   "metadata": {},
   "outputs": [],
   "source": []
  }
 ],
 "metadata": {
  "kernelspec": {
   "display_name": "Python 3",
   "language": "python",
   "name": "python3"
  },
  "language_info": {
   "codemirror_mode": {
    "name": "ipython",
    "version": 3
   },
   "file_extension": ".py",
   "mimetype": "text/x-python",
   "name": "python",
   "nbconvert_exporter": "python",
   "pygments_lexer": "ipython3",
   "version": "3.6.6"
  }
 },
 "nbformat": 4,
 "nbformat_minor": 4
}
