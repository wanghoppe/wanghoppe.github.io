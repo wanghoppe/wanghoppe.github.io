{
 "cells": [
  {
   "cell_type": "markdown",
   "metadata": {},
   "source": [
    "## This is an example of markdown usage"
   ]
  },
  {
   "cell_type": "markdown",
   "metadata": {},
   "source": [
    "```javascript\n",
    "\n",
    "const express = require('express');\n",
    "const history = require('../..');\n",
    "const path = require('path');\n",
    "\n",
    "const app = express();\n",
    "\n",
    "const staticFileMiddleware = express.static('assets');\n",
    "app.use(staticFileMiddleware);\n",
    "\n",
    "const historyMiddleware = history({\n",
    "  disableDotRule: true,\n",
    "  verbose: true\n",
    "});\n",
    "app.use((req, res, next) => {\n",
    "  // This is the ignore rule. You can do whatever checks you feel are necessary, e.g.\n",
    "  // check headers, req path, external vars…\n",
    "  if (req.path === '/signOut') {\n",
    "    next();\n",
    "  } else {\n",
    "    historyMiddleware(req, res, next);\n",
    "  }\n",
    "});\n",
    "app.use(staticFileMiddleware);\n",
    "\n",
    "app.get('/users/5.json', (req, res) => {\n",
    "  res.json({\n",
    "    name: 'Tom Mason'\n",
    "  });\n",
    "});\n",
    "\n",
    "app.get('/signOut', (req, res) => {\n",
    "  console.log('custom signOut rule');\n",
    "  res.sendFile(path.join(__dirname, 'assets', 'signOut.html'));\n",
    "});\n",
    "\n",
    "const port = 5555;\n",
    "app.listen(port, () => {\n",
    "  console.log(`Example app listening on port ${5555}!`);\n",
    "});\n",
    "\n",
    "```"
   ]
  }
 ],
 "metadata": {
  "kernelspec": {
   "display_name": "Python 3",
   "language": "python",
   "name": "python3"
  },
  "language_info": {
   "codemirror_mode": {
    "name": "ipython",
    "version": 3
   },
   "file_extension": ".py",
   "mimetype": "text/x-python",
   "name": "python",
   "nbconvert_exporter": "python",
   "pygments_lexer": "ipython3",
   "version": "3.6.6"
  }
 },
 "nbformat": 4,
 "nbformat_minor": 4
}
